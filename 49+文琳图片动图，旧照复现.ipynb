{
 "cells": [
  {
   "cell_type": "code",
   "execution_count": 1,
   "id": "88e4618f",
   "metadata": {},
   "outputs": [],
   "source": [
    "import os\n",
    "\n",
    "os.environ['KMP_DUPLICATE_LIB_OK'] = 'True'"
   ]
  },
  {
   "cell_type": "code",
   "execution_count": 24,
   "id": "f8c2f172",
   "metadata": {},
   "outputs": [
    {
     "name": "stdout",
     "output_type": "stream",
     "text": [
      "VideoObject(id='37641732705469366-9202948092453529158', model='cogvideox', video_result=None, task_status='PROCESSING', request_id='-9202948092453529159')\n"
     ]
    }
   ],
   "source": [
    "# 图生视频示例，Python\n",
    "# 实现：旧照片人物变年轻，旧照片人物活跃起来\n",
    "\n",
    "from zhipuai import ZhipuAI\n",
    "\n",
    "# 请填写您自己的APIKey\n",
    "api_key = \"226fb2133a571259cc4b9c5f3e0ae4d4.5P9J31WGgJQVGj6u\"\n",
    "client = ZhipuAI(api_key=api_key)\n",
    "\n",
    "# 模型名称、图像URL和提示字符串（可以为空）\n",
    "model = \"cogvideox\"\n",
    "image_url = \"https://n.sinaimg.cn/sinacn/w1085h1085/20180117/9ea1-fyqrewk0668768.jpg\"  # 替换为您的图像URL\n",
    "prompt = \"\"  # 替换为您的提示字符串，如果不需要则留空\n",
    "\n",
    "# 调用videos.generations方法生成视频\n",
    "response = client.videos.generations(model=model, image_url=image_url, prompt=prompt)\n",
    "\n",
    "# 打印响应结果\n",
    "print(response)"
   ]
  },
  {
   "cell_type": "code",
   "execution_count": 29,
   "id": "282dd765",
   "metadata": {},
   "outputs": [
    {
     "name": "stdout",
     "output_type": "stream",
     "text": [
      "VideoObject(id=None, model='cogvideox', video_result=[VideoResult(url='https://aigc-files.bigmodel.cn/api/cogvideo/b49dafec-ad2c-11ef-aac5-72334138196c_0.mp4', cover_image_url='https://aigc-files.bigmodel.cn/api/cogvideo/b49dafec-ad2c-11ef-aac5-72334138196c_cover_0.jpeg')], task_status='SUCCESS', request_id='-9202948092453529159')\n"
     ]
    }
   ],
   "source": [
    "from zhipuai import ZhipuAI\n",
    "client = ZhipuAI(api_key=\"226fb2133a571259cc4b9c5f3e0ae4d4.5P9J31WGgJQVGj6u\")\n",
    "\n",
    "response = client.videos.retrieve_videos_result(\n",
    "    id=\"37641732705469366-9202948092453529158\"\n",
    ")\n",
    "print(response)"
   ]
  },
  {
   "cell_type": "code",
   "execution_count": null,
   "id": "2d244493",
   "metadata": {},
   "outputs": [],
   "source": []
  },
  {
   "cell_type": "code",
   "execution_count": null,
   "id": "73fddad6",
   "metadata": {},
   "outputs": [],
   "source": []
  },
  {
   "cell_type": "code",
   "execution_count": null,
   "id": "01a904ea",
   "metadata": {},
   "outputs": [],
   "source": []
  },
  {
   "cell_type": "code",
   "execution_count": null,
   "id": "3bd84d0d",
   "metadata": {},
   "outputs": [],
   "source": []
  }
 ],
 "metadata": {
  "kernelspec": {
   "display_name": "Python 3 (ipykernel)",
   "language": "python",
   "name": "python3"
  },
  "language_info": {
   "codemirror_mode": {
    "name": "ipython",
    "version": 3
   },
   "file_extension": ".py",
   "mimetype": "text/x-python",
   "name": "python",
   "nbconvert_exporter": "python",
   "pygments_lexer": "ipython3",
   "version": "3.9.7"
  }
 },
 "nbformat": 4,
 "nbformat_minor": 5
}
